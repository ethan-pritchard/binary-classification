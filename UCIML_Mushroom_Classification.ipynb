{
  "nbformat": 4,
  "nbformat_minor": 0,
  "metadata": {
    "colab": {
      "name": "UCIML Mushroom Classification.ipynb",
      "provenance": [],
      "collapsed_sections": [],
      "authorship_tag": "ABX9TyPdCqlyVNzhdjItYphJ8g3n"
    },
    "kernelspec": {
      "name": "python3",
      "display_name": "Python 3"
    }
  },
  "cells": [
    {
      "cell_type": "markdown",
      "metadata": {
        "id": "jeTpQZ75vjXO"
      },
      "source": [
        "# UCI Machine Learning Datasets: Mushrooms (Edible or Poisonous)\r\n",
        "\r\n",
        "This notebook explores solutions to an elementary binary categorical classification problem: the UCI ML Mushroom dataset.\r\n",
        "\r\n",
        "UC Irvine's Machine Learning department houses many datasets. These datasets are designed to be extremely reliable and allow algorithms to create excellent solutions. The UCI ML mushroom dataset provides over twenty datapoints to describe a mushroom as well as an attached label specifying if the mushroom is edible or poisonous. \r\n",
        "\r\n",
        "Because this classification problem has two categories, the problem becomes a **binary classification problem** as opposed to a **multi-class classification problem**. The primary difference between binary and multi-class classification problems lies in the solution. Binary classification problems typically employ regression algorithms, SVMs (Support Vector Machines), and gradient boosting algorithms to create high performance solutions.\r\n",
        "\r\n",
        "An important note: for binary classification algorithms, accuracy and loss are not good metrics for determining the performance of a model. Instead, use an algorithm that is a function of the model's precision and recall, such as F1 score. This notebook uses F1 Score as a performance guaging metric."
      ]
    },
    {
      "cell_type": "code",
      "metadata": {
        "id": "MOVdbZe5uudr"
      },
      "source": [
        "import numpy as np\r\n",
        "import pandas as pd\r\n",
        "import matplotlib.pyplot as plt\r\n",
        "import itertools\r\n",
        "import tensorflow as tf\r\n",
        "\r\n",
        "from sklearn.preprocessing import OneHotEncoder\r\n",
        "from sklearn.model_selection import train_test_split"
      ],
      "execution_count": null,
      "outputs": []
    },
    {
      "cell_type": "code",
      "metadata": {
        "id": "mQBATdrGviXk"
      },
      "source": [
        "# A method that plots a confusion matrix nicely\r\n",
        "def plot_confusion_matrix(cm, target_names, title='Confusion matrix', cmap=None, normalize=True):\r\n",
        "  accuracy = np.trace(cm) / float(np.sum(cm))\r\n",
        "  misclass = 1 - accuracy\r\n",
        "\r\n",
        "  if cmap is None:\r\n",
        "    cmap = plt.get_cmap('Blues')\r\n",
        "\r\n",
        "  plt.figure(figsize=(8, 6))\r\n",
        "  plt.imshow(cm, interpolation='nearest', cmap=cmap)\r\n",
        "  plt.title(title)\r\n",
        "  plt.colorbar()\r\n",
        "\r\n",
        "  if target_names is not None:\r\n",
        "    tick_marks = np.arange(len(target_names))\r\n",
        "    plt.xticks(tick_marks, target_names, rotation=45)\r\n",
        "    plt.yticks(tick_marks, target_names)\r\n",
        "\r\n",
        "    if normalize: cm = cm.astype('float') / cm.sum(axis=1)[:, np.newaxis]\r\n",
        "\r\n",
        "    thresh = cm.max() / 1.5 if normalize else cm.max() / 2\r\n",
        "    for i, j in itertools.product(range(cm.shape[0]), range(cm.shape[1])):\r\n",
        "      if normalize: plt.text(j, i, \"{:0.4f}\".format(cm[i, j]), horizontalalignment=\"center\", color=\"white\" if cm[i, j] > thresh else \"black\")\r\n",
        "      else: plt.text(j, i, \"{:,}\".format(cm[i, j]), horizontalalignment=\"center\", color=\"white\" if cm[i, j] > thresh else \"black\")\r\n",
        "\r\n",
        "    plt.tight_layout()\r\n",
        "    plt.ylabel('True label')\r\n",
        "    plt.xlabel('Predicted label\\naccuracy={:0.4f}; misclass={:0.4f}'.format(accuracy, misclass))\r\n",
        "    plt.show()"
      ],
      "execution_count": null,
      "outputs": []
    },
    {
      "cell_type": "markdown",
      "metadata": {
        "id": "gHmDn-6WyfpH"
      },
      "source": [
        "### Data Preparation\r\n",
        "\r\n"
      ]
    },
    {
      "cell_type": "code",
      "metadata": {
        "id": "vpR6Bu7Nyots"
      },
      "source": [
        "# Load the raw data\r\n",
        "df = pd.read_csv('mushrooms.csv')"
      ],
      "execution_count": null,
      "outputs": []
    },
    {
      "cell_type": "code",
      "metadata": {
        "colab": {
          "base_uri": "https://localhost:8080/",
          "height": 272
        },
        "id": "HAEpoG7bzIDp",
        "outputId": "60acf31e-5c85-4f4a-a527-ebb6672c8d63"
      },
      "source": [
        "print('Mushrooms DataFrame')\r\n",
        "print(df.shape)\r\n",
        "df.head()"
      ],
      "execution_count": null,
      "outputs": [
        {
          "output_type": "stream",
          "text": [
            "Mushrooms DataFrame\n",
            "(8124, 23)\n"
          ],
          "name": "stdout"
        },
        {
          "output_type": "execute_result",
          "data": {
            "text/html": [
              "<div>\n",
              "<style scoped>\n",
              "    .dataframe tbody tr th:only-of-type {\n",
              "        vertical-align: middle;\n",
              "    }\n",
              "\n",
              "    .dataframe tbody tr th {\n",
              "        vertical-align: top;\n",
              "    }\n",
              "\n",
              "    .dataframe thead th {\n",
              "        text-align: right;\n",
              "    }\n",
              "</style>\n",
              "<table border=\"1\" class=\"dataframe\">\n",
              "  <thead>\n",
              "    <tr style=\"text-align: right;\">\n",
              "      <th></th>\n",
              "      <th>class</th>\n",
              "      <th>cap-shape</th>\n",
              "      <th>cap-surface</th>\n",
              "      <th>cap-color</th>\n",
              "      <th>bruises</th>\n",
              "      <th>odor</th>\n",
              "      <th>gill-attachment</th>\n",
              "      <th>gill-spacing</th>\n",
              "      <th>gill-size</th>\n",
              "      <th>gill-color</th>\n",
              "      <th>stalk-shape</th>\n",
              "      <th>stalk-root</th>\n",
              "      <th>stalk-surface-above-ring</th>\n",
              "      <th>stalk-surface-below-ring</th>\n",
              "      <th>stalk-color-above-ring</th>\n",
              "      <th>stalk-color-below-ring</th>\n",
              "      <th>veil-type</th>\n",
              "      <th>veil-color</th>\n",
              "      <th>ring-number</th>\n",
              "      <th>ring-type</th>\n",
              "      <th>spore-print-color</th>\n",
              "      <th>population</th>\n",
              "      <th>habitat</th>\n",
              "    </tr>\n",
              "  </thead>\n",
              "  <tbody>\n",
              "    <tr>\n",
              "      <th>0</th>\n",
              "      <td>p</td>\n",
              "      <td>x</td>\n",
              "      <td>s</td>\n",
              "      <td>n</td>\n",
              "      <td>t</td>\n",
              "      <td>p</td>\n",
              "      <td>f</td>\n",
              "      <td>c</td>\n",
              "      <td>n</td>\n",
              "      <td>k</td>\n",
              "      <td>e</td>\n",
              "      <td>e</td>\n",
              "      <td>s</td>\n",
              "      <td>s</td>\n",
              "      <td>w</td>\n",
              "      <td>w</td>\n",
              "      <td>p</td>\n",
              "      <td>w</td>\n",
              "      <td>o</td>\n",
              "      <td>p</td>\n",
              "      <td>k</td>\n",
              "      <td>s</td>\n",
              "      <td>u</td>\n",
              "    </tr>\n",
              "    <tr>\n",
              "      <th>1</th>\n",
              "      <td>e</td>\n",
              "      <td>x</td>\n",
              "      <td>s</td>\n",
              "      <td>y</td>\n",
              "      <td>t</td>\n",
              "      <td>a</td>\n",
              "      <td>f</td>\n",
              "      <td>c</td>\n",
              "      <td>b</td>\n",
              "      <td>k</td>\n",
              "      <td>e</td>\n",
              "      <td>c</td>\n",
              "      <td>s</td>\n",
              "      <td>s</td>\n",
              "      <td>w</td>\n",
              "      <td>w</td>\n",
              "      <td>p</td>\n",
              "      <td>w</td>\n",
              "      <td>o</td>\n",
              "      <td>p</td>\n",
              "      <td>n</td>\n",
              "      <td>n</td>\n",
              "      <td>g</td>\n",
              "    </tr>\n",
              "    <tr>\n",
              "      <th>2</th>\n",
              "      <td>e</td>\n",
              "      <td>b</td>\n",
              "      <td>s</td>\n",
              "      <td>w</td>\n",
              "      <td>t</td>\n",
              "      <td>l</td>\n",
              "      <td>f</td>\n",
              "      <td>c</td>\n",
              "      <td>b</td>\n",
              "      <td>n</td>\n",
              "      <td>e</td>\n",
              "      <td>c</td>\n",
              "      <td>s</td>\n",
              "      <td>s</td>\n",
              "      <td>w</td>\n",
              "      <td>w</td>\n",
              "      <td>p</td>\n",
              "      <td>w</td>\n",
              "      <td>o</td>\n",
              "      <td>p</td>\n",
              "      <td>n</td>\n",
              "      <td>n</td>\n",
              "      <td>m</td>\n",
              "    </tr>\n",
              "    <tr>\n",
              "      <th>3</th>\n",
              "      <td>p</td>\n",
              "      <td>x</td>\n",
              "      <td>y</td>\n",
              "      <td>w</td>\n",
              "      <td>t</td>\n",
              "      <td>p</td>\n",
              "      <td>f</td>\n",
              "      <td>c</td>\n",
              "      <td>n</td>\n",
              "      <td>n</td>\n",
              "      <td>e</td>\n",
              "      <td>e</td>\n",
              "      <td>s</td>\n",
              "      <td>s</td>\n",
              "      <td>w</td>\n",
              "      <td>w</td>\n",
              "      <td>p</td>\n",
              "      <td>w</td>\n",
              "      <td>o</td>\n",
              "      <td>p</td>\n",
              "      <td>k</td>\n",
              "      <td>s</td>\n",
              "      <td>u</td>\n",
              "    </tr>\n",
              "    <tr>\n",
              "      <th>4</th>\n",
              "      <td>e</td>\n",
              "      <td>x</td>\n",
              "      <td>s</td>\n",
              "      <td>g</td>\n",
              "      <td>f</td>\n",
              "      <td>n</td>\n",
              "      <td>f</td>\n",
              "      <td>w</td>\n",
              "      <td>b</td>\n",
              "      <td>k</td>\n",
              "      <td>t</td>\n",
              "      <td>e</td>\n",
              "      <td>s</td>\n",
              "      <td>s</td>\n",
              "      <td>w</td>\n",
              "      <td>w</td>\n",
              "      <td>p</td>\n",
              "      <td>w</td>\n",
              "      <td>o</td>\n",
              "      <td>e</td>\n",
              "      <td>n</td>\n",
              "      <td>a</td>\n",
              "      <td>g</td>\n",
              "    </tr>\n",
              "  </tbody>\n",
              "</table>\n",
              "</div>"
            ],
            "text/plain": [
              "  class cap-shape cap-surface  ... spore-print-color population habitat\n",
              "0     p         x           s  ...                 k          s       u\n",
              "1     e         x           s  ...                 n          n       g\n",
              "2     e         b           s  ...                 n          n       m\n",
              "3     p         x           y  ...                 k          s       u\n",
              "4     e         x           s  ...                 n          a       g\n",
              "\n",
              "[5 rows x 23 columns]"
            ]
          },
          "metadata": {
            "tags": []
          },
          "execution_count": 109
        }
      ]
    },
    {
      "cell_type": "code",
      "metadata": {
        "colab": {
          "base_uri": "https://localhost:8080/"
        },
        "id": "MRo7csBuy_83",
        "outputId": "d28584ae-9bf5-4c79-90e4-14d3ab218ae0"
      },
      "source": [
        "# Check for null values\r\n",
        "df.isnull().sum()"
      ],
      "execution_count": null,
      "outputs": [
        {
          "output_type": "execute_result",
          "data": {
            "text/plain": [
              "class                       0\n",
              "cap-shape                   0\n",
              "cap-surface                 0\n",
              "cap-color                   0\n",
              "bruises                     0\n",
              "odor                        0\n",
              "gill-attachment             0\n",
              "gill-spacing                0\n",
              "gill-size                   0\n",
              "gill-color                  0\n",
              "stalk-shape                 0\n",
              "stalk-root                  0\n",
              "stalk-surface-above-ring    0\n",
              "stalk-surface-below-ring    0\n",
              "stalk-color-above-ring      0\n",
              "stalk-color-below-ring      0\n",
              "veil-type                   0\n",
              "veil-color                  0\n",
              "ring-number                 0\n",
              "ring-type                   0\n",
              "spore-print-color           0\n",
              "population                  0\n",
              "habitat                     0\n",
              "dtype: int64"
            ]
          },
          "metadata": {
            "tags": []
          },
          "execution_count": 110
        }
      ]
    },
    {
      "cell_type": "code",
      "metadata": {
        "colab": {
          "base_uri": "https://localhost:8080/"
        },
        "id": "IVl9oL__zRas",
        "outputId": "6b2d2c27-e6ee-4a69-a0bd-fc55f4db8043"
      },
      "source": [
        "# Get unique class names\r\n",
        "df['class'].unique()"
      ],
      "execution_count": null,
      "outputs": [
        {
          "output_type": "execute_result",
          "data": {
            "text/plain": [
              "array(['p', 'e'], dtype=object)"
            ]
          },
          "metadata": {
            "tags": []
          },
          "execution_count": 111
        }
      ]
    },
    {
      "cell_type": "code",
      "metadata": {
        "colab": {
          "base_uri": "https://localhost:8080/"
        },
        "id": "7O2J9-Z5zZmy",
        "outputId": "b7316d09-8e85-4f45-840e-31a5eca93246"
      },
      "source": [
        "# Check for dataset balance\r\n",
        "df['class'].value_counts()"
      ],
      "execution_count": null,
      "outputs": [
        {
          "output_type": "execute_result",
          "data": {
            "text/plain": [
              "e    4208\n",
              "p    3916\n",
              "Name: class, dtype: int64"
            ]
          },
          "metadata": {
            "tags": []
          },
          "execution_count": 112
        }
      ]
    },
    {
      "cell_type": "code",
      "metadata": {
        "colab": {
          "base_uri": "https://localhost:8080/"
        },
        "id": "BeBYwXwE0X60",
        "outputId": "3dd0ce36-f68a-40e7-a265-390743b37d6f"
      },
      "source": [
        "# Create the encoder\r\n",
        "enc = OneHotEncoder()\r\n",
        "enc"
      ],
      "execution_count": null,
      "outputs": [
        {
          "output_type": "execute_result",
          "data": {
            "text/plain": [
              "OneHotEncoder(categories='auto', drop=None, dtype=<class 'numpy.float64'>,\n",
              "              handle_unknown='error', sparse=True)"
            ]
          },
          "metadata": {
            "tags": []
          },
          "execution_count": 113
        }
      ]
    },
    {
      "cell_type": "code",
      "metadata": {
        "colab": {
          "base_uri": "https://localhost:8080/"
        },
        "id": "DCv_maTI1puq",
        "outputId": "b99ca393-42a6-47b7-c22e-87aefa43f490"
      },
      "source": [
        "# Encode the dataset\r\n",
        "df_enc = enc.fit_transform(df).toarray()\r\n",
        "df_enc"
      ],
      "execution_count": null,
      "outputs": [
        {
          "output_type": "execute_result",
          "data": {
            "text/plain": [
              "array([[0., 1., 0., ..., 0., 1., 0.],\n",
              "       [1., 0., 0., ..., 0., 0., 0.],\n",
              "       [1., 0., 1., ..., 0., 0., 0.],\n",
              "       ...,\n",
              "       [1., 0., 0., ..., 0., 0., 0.],\n",
              "       [0., 1., 0., ..., 0., 0., 0.],\n",
              "       [1., 0., 0., ..., 0., 0., 0.]])"
            ]
          },
          "metadata": {
            "tags": []
          },
          "execution_count": 114
        }
      ]
    },
    {
      "cell_type": "code",
      "metadata": {
        "colab": {
          "base_uri": "https://localhost:8080/"
        },
        "id": "7qP4xiJE1CwJ",
        "outputId": "516d9bcb-a95d-4021-e0cb-ae755b181455"
      },
      "source": [
        "# Calculate feature names for presentation\r\n",
        "enc_names = enc.get_feature_names(df.columns)\r\n",
        "enc_names"
      ],
      "execution_count": null,
      "outputs": [
        {
          "output_type": "execute_result",
          "data": {
            "text/plain": [
              "array(['class_e', 'class_p', 'cap-shape_b', 'cap-shape_c', 'cap-shape_f',\n",
              "       'cap-shape_k', 'cap-shape_s', 'cap-shape_x', 'cap-surface_f',\n",
              "       'cap-surface_g', 'cap-surface_s', 'cap-surface_y', 'cap-color_b',\n",
              "       'cap-color_c', 'cap-color_e', 'cap-color_g', 'cap-color_n',\n",
              "       'cap-color_p', 'cap-color_r', 'cap-color_u', 'cap-color_w',\n",
              "       'cap-color_y', 'bruises_f', 'bruises_t', 'odor_a', 'odor_c',\n",
              "       'odor_f', 'odor_l', 'odor_m', 'odor_n', 'odor_p', 'odor_s',\n",
              "       'odor_y', 'gill-attachment_a', 'gill-attachment_f',\n",
              "       'gill-spacing_c', 'gill-spacing_w', 'gill-size_b', 'gill-size_n',\n",
              "       'gill-color_b', 'gill-color_e', 'gill-color_g', 'gill-color_h',\n",
              "       'gill-color_k', 'gill-color_n', 'gill-color_o', 'gill-color_p',\n",
              "       'gill-color_r', 'gill-color_u', 'gill-color_w', 'gill-color_y',\n",
              "       'stalk-shape_e', 'stalk-shape_t', 'stalk-root_?', 'stalk-root_b',\n",
              "       'stalk-root_c', 'stalk-root_e', 'stalk-root_r',\n",
              "       'stalk-surface-above-ring_f', 'stalk-surface-above-ring_k',\n",
              "       'stalk-surface-above-ring_s', 'stalk-surface-above-ring_y',\n",
              "       'stalk-surface-below-ring_f', 'stalk-surface-below-ring_k',\n",
              "       'stalk-surface-below-ring_s', 'stalk-surface-below-ring_y',\n",
              "       'stalk-color-above-ring_b', 'stalk-color-above-ring_c',\n",
              "       'stalk-color-above-ring_e', 'stalk-color-above-ring_g',\n",
              "       'stalk-color-above-ring_n', 'stalk-color-above-ring_o',\n",
              "       'stalk-color-above-ring_p', 'stalk-color-above-ring_w',\n",
              "       'stalk-color-above-ring_y', 'stalk-color-below-ring_b',\n",
              "       'stalk-color-below-ring_c', 'stalk-color-below-ring_e',\n",
              "       'stalk-color-below-ring_g', 'stalk-color-below-ring_n',\n",
              "       'stalk-color-below-ring_o', 'stalk-color-below-ring_p',\n",
              "       'stalk-color-below-ring_w', 'stalk-color-below-ring_y',\n",
              "       'veil-type_p', 'veil-color_n', 'veil-color_o', 'veil-color_w',\n",
              "       'veil-color_y', 'ring-number_n', 'ring-number_o', 'ring-number_t',\n",
              "       'ring-type_e', 'ring-type_f', 'ring-type_l', 'ring-type_n',\n",
              "       'ring-type_p', 'spore-print-color_b', 'spore-print-color_h',\n",
              "       'spore-print-color_k', 'spore-print-color_n',\n",
              "       'spore-print-color_o', 'spore-print-color_r',\n",
              "       'spore-print-color_u', 'spore-print-color_w',\n",
              "       'spore-print-color_y', 'population_a', 'population_c',\n",
              "       'population_n', 'population_s', 'population_v', 'population_y',\n",
              "       'habitat_d', 'habitat_g', 'habitat_l', 'habitat_m', 'habitat_p',\n",
              "       'habitat_u', 'habitat_w'], dtype=object)"
            ]
          },
          "metadata": {
            "tags": []
          },
          "execution_count": 115
        }
      ]
    },
    {
      "cell_type": "code",
      "metadata": {
        "colab": {
          "base_uri": "https://localhost:8080/",
          "height": 35
        },
        "id": "T2x-UJXD4S7g",
        "outputId": "a695b08e-960c-4021-b92f-db76217ec21f"
      },
      "source": [
        "'Number of Encoded Features (Including Classification): {}'.format(len(enc_names))"
      ],
      "execution_count": null,
      "outputs": [
        {
          "output_type": "execute_result",
          "data": {
            "application/vnd.google.colaboratory.intrinsic+json": {
              "type": "string"
            },
            "text/plain": [
              "'Number of Encoded Features (Including Classification): 119'"
            ]
          },
          "metadata": {
            "tags": []
          },
          "execution_count": 116
        }
      ]
    },
    {
      "cell_type": "code",
      "metadata": {
        "id": "rmZjqeIR1Bo_"
      },
      "source": [
        "'Number of Encoded Features (Excluding Classification): {}'.format(len(enc_names) - len(df['class'].unique()))"
      ],
      "execution_count": null,
      "outputs": []
    },
    {
      "cell_type": "code",
      "metadata": {
        "colab": {
          "base_uri": "https://localhost:8080/"
        },
        "id": "5OzmRcux2F_8",
        "outputId": "1c3d235e-1497-4aea-d1d0-73a2b3467428"
      },
      "source": [
        "# For the sake of it, proof we can invert the encoded dataset to obtain the original\r\n",
        "df_enc_inv = enc.inverse_transform(df_enc)\r\n",
        "df_enc_inv"
      ],
      "execution_count": null,
      "outputs": [
        {
          "output_type": "execute_result",
          "data": {
            "text/plain": [
              "array([['p', 'x', 's', ..., 'k', 's', 'u'],\n",
              "       ['e', 'x', 's', ..., 'n', 'n', 'g'],\n",
              "       ['e', 'b', 's', ..., 'n', 'n', 'm'],\n",
              "       ...,\n",
              "       ['e', 'f', 's', ..., 'b', 'c', 'l'],\n",
              "       ['p', 'k', 'y', ..., 'w', 'v', 'l'],\n",
              "       ['e', 'x', 's', ..., 'o', 'c', 'l']], dtype=object)"
            ]
          },
          "metadata": {
            "tags": []
          },
          "execution_count": 117
        }
      ]
    },
    {
      "cell_type": "code",
      "metadata": {
        "id": "gIe4tU7X45Ey"
      },
      "source": [
        "# Split the encoded dataset into train and test groups\r\n",
        "train, test = train_test_split(df_enc)"
      ],
      "execution_count": null,
      "outputs": []
    },
    {
      "cell_type": "code",
      "metadata": {
        "colab": {
          "base_uri": "https://localhost:8080/"
        },
        "id": "ehajz5d_5NhW",
        "outputId": "5c1afb9a-ce3a-41a5-c5d7-e7d847e0facd"
      },
      "source": [
        "# Get size of the datasets\r\n",
        "print('Train Size: {}'.format(len(train)))\r\n",
        "print('Test Size: {}'.format(len(test)))"
      ],
      "execution_count": null,
      "outputs": [
        {
          "output_type": "stream",
          "text": [
            "Train Size: 6093\n",
            "Test Size: 2031\n"
          ],
          "name": "stdout"
        }
      ]
    },
    {
      "cell_type": "code",
      "metadata": {
        "id": "B6cU9zLm5YWC"
      },
      "source": [
        "# Split the datasets into x and y\r\n",
        "train_x = train[:,2:]\r\n",
        "train_y = train[:,:1].ravel() # Because this is a binary classification problem, we only need one of the classification's encodings\r\n",
        "test_x = test[:,2:]\r\n",
        "test_y = test[:,:1].ravel()"
      ],
      "execution_count": null,
      "outputs": []
    },
    {
      "cell_type": "code",
      "metadata": {
        "colab": {
          "base_uri": "https://localhost:8080/"
        },
        "id": "Wvs-YjefuvRN",
        "outputId": "d4652c3a-c7d1-435d-ed9e-e38c187c4d0c"
      },
      "source": [
        "print(train_x[:10])\r\n",
        "print(train_y[:10])\r\n",
        "print(test_x[:10])\r\n",
        "print(test_y[:10])"
      ],
      "execution_count": null,
      "outputs": [
        {
          "output_type": "stream",
          "text": [
            "[[0. 0. 1. ... 0. 0. 0.]\n",
            " [0. 0. 0. ... 0. 0. 0.]\n",
            " [0. 0. 0. ... 0. 0. 0.]\n",
            " ...\n",
            " [0. 0. 1. ... 0. 0. 0.]\n",
            " [0. 0. 0. ... 0. 0. 0.]\n",
            " [0. 0. 1. ... 1. 0. 0.]]\n",
            "[0. 1. 1. 1. 0. 0. 1. 0. 1. 0.]\n",
            "[[0. 0. 0. ... 0. 0. 0.]\n",
            " [0. 0. 1. ... 0. 0. 0.]\n",
            " [0. 0. 0. ... 0. 0. 0.]\n",
            " ...\n",
            " [0. 0. 0. ... 0. 0. 0.]\n",
            " [0. 0. 1. ... 0. 0. 0.]\n",
            " [0. 0. 1. ... 0. 0. 0.]]\n",
            "[0. 1. 1. 0. 1. 0. 1. 1. 0. 1.]\n"
          ],
          "name": "stdout"
        }
      ]
    },
    {
      "cell_type": "markdown",
      "metadata": {
        "id": "VXBfbdUl2uPs"
      },
      "source": [
        "### Model: Logistic Regression\r\n",
        "\r\n",
        "Logistic Regression is an algorithm that uses a logistic function to model a binary classification problem. The two potential classifications are given the values of 0 and 1. The algorithm then finds a logistic function best fitting the dataset.\r\n",
        "\r\n",
        "![](https://i.imgur.com/MEJ5PjO.png)\r\n",
        "\r\n",
        "While simple to understand in two or three dimensions, logistic regression is difficult to visualize given hundreds or thousands of variables. This problem involves a simple dataset yet has 119 variables."
      ]
    },
    {
      "cell_type": "code",
      "metadata": {
        "id": "ulxkN6-T4tif"
      },
      "source": [
        "from sklearn.linear_model import LogisticRegression"
      ],
      "execution_count": null,
      "outputs": []
    },
    {
      "cell_type": "code",
      "metadata": {
        "id": "fkxwLONo4w9o"
      },
      "source": [
        "# Create the logistic regression model\r\n",
        "lr = LogisticRegression().fit(train_x, train_y)"
      ],
      "execution_count": null,
      "outputs": []
    },
    {
      "cell_type": "code",
      "metadata": {
        "id": "OUNcx-el6Jxs"
      },
      "source": [
        "# Calculate predictions using model\r\n",
        "lr_threshold = 0.5 # Adjustable threshold\r\n",
        "lr_prob = lr.predict_proba(test_x)[:,1]\r\n",
        "lr_pred = np.where(lr_prob > threshold, 1, 0)\r\n",
        "lr_score = lr.score(test_x, lr_pred)"
      ],
      "execution_count": null,
      "outputs": []
    },
    {
      "cell_type": "code",
      "metadata": {
        "colab": {
          "base_uri": "https://localhost:8080/"
        },
        "id": "qDChWlKO621s",
        "outputId": "8e52d0d7-f2e8-4311-fc3c-8a9f899338fc"
      },
      "source": [
        "# Calculate the confusion matrix of real vs. logistic regression predictions\r\n",
        "cm = tf.math.confusion_matrix(test_y, lr_pred, num_classes=2)\r\n",
        "cm"
      ],
      "execution_count": null,
      "outputs": [
        {
          "output_type": "execute_result",
          "data": {
            "text/plain": [
              "<tf.Tensor: shape=(2, 2), dtype=int32, numpy=\n",
              "array([[1001,    0],\n",
              "       [   0, 1030]], dtype=int32)>"
            ]
          },
          "metadata": {
            "tags": []
          },
          "execution_count": 125
        }
      ]
    },
    {
      "cell_type": "code",
      "metadata": {
        "colab": {
          "base_uri": "https://localhost:8080/",
          "height": 467
        },
        "id": "-9fLakcK7hzm",
        "outputId": "78ef460e-e33a-4f20-dcd0-c7a90393590c"
      },
      "source": [
        "plot_confusion_matrix(cm=cm.numpy(), target_names=enc_names[:2], normalize=False, cmap=plt.cm.Blues, title='Confusion Matrix - Logistic Regression')"
      ],
      "execution_count": null,
      "outputs": [
        {
          "output_type": "display_data",
          "data": {
            "image/png": "[encoded data removed]",
            "text/plain": [
              "<Figure size 576x432 with 2 Axes>"
            ]
          },
          "metadata": {
            "tags": [],
            "needs_background": "light"
          }
        }
      ]
    },
    {
      "cell_type": "markdown",
      "metadata": {
        "id": "C-fLH8jt23wp"
      },
      "source": [
        "### Model: Support Vector Machine (SVM)\r\n",
        "\r\n",
        "A Support Vector Machine (SVM) is an algorithm that attempts to find a hyperplane that classifies the dataset. A more direct description is the equation for the barrier that distinguishes vectors as one of the two classifications.\r\n",
        "\r\n",
        "![](https://i.imgur.com/VoXNkgX.png)![](https://i.imgur.com/FEg1wml.png)\r\n",
        "\r\n",
        "Similar to logistic regression, SVMs are hard to visualize. In two dimensions, the SVM calculates the equation of a line as the hyperplane. In three dimensions, the line becomes a plane. As the dimensions increase into the hundreds, the result becomes harder to visualize."
      ]
    },
    {
      "cell_type": "code",
      "metadata": {
        "id": "T52ybNd570Ut"
      },
      "source": [
        "from sklearn.svm import SVC"
      ],
      "execution_count": null,
      "outputs": []
    },
    {
      "cell_type": "code",
      "metadata": {
        "id": "mYs1vXkWxHOv"
      },
      "source": [
        "# Create the SVM\r\n",
        "svm = SVC().fit(train_x, train_y)"
      ],
      "execution_count": null,
      "outputs": []
    },
    {
      "cell_type": "code",
      "metadata": {
        "id": "KPBp0-4GxXND"
      },
      "source": [
        "# Calculate predictions using the model\r\n",
        "svm_pred = svm.predict(test_x)"
      ],
      "execution_count": null,
      "outputs": []
    },
    {
      "cell_type": "code",
      "metadata": {
        "colab": {
          "base_uri": "https://localhost:8080/"
        },
        "id": "Ite5wkP-xxmD",
        "outputId": "b96f23cb-1b6f-4a53-aeda-2a0a2ebc5182"
      },
      "source": [
        "# Calculate the confusion matrix of real vs. SVM predictions\r\n",
        "cm = tf.math.confusion_matrix(test_y, svm_pred, num_classes=2)\r\n",
        "cm"
      ],
      "execution_count": null,
      "outputs": [
        {
          "output_type": "execute_result",
          "data": {
            "text/plain": [
              "<tf.Tensor: shape=(2, 2), dtype=int32, numpy=\n",
              "array([[1001,    0],\n",
              "       [   0, 1030]], dtype=int32)>"
            ]
          },
          "metadata": {
            "tags": []
          },
          "execution_count": 130
        }
      ]
    },
    {
      "cell_type": "code",
      "metadata": {
        "colab": {
          "base_uri": "https://localhost:8080/",
          "height": 467
        },
        "id": "i2gYKy3Ix1rT",
        "outputId": "bc05497c-22dc-4274-950f-25f94101d8de"
      },
      "source": [
        "plot_confusion_matrix(cm=cm.numpy(), target_names=enc_names[:2], normalize=False, cmap=plt.cm.Blues, title='Confusion Matrix - Support Vector Machine')"
      ],
      "execution_count": null,
      "outputs": [
        {
          "output_type": "display_data",
          "data": {
            "image/png": "[encoded data removed]",
            "text/plain": [
              "<Figure size 576x432 with 2 Axes>"
            ]
          },
          "metadata": {
            "tags": [],
            "needs_background": "light"
          }
        }
      ]
    },
    {
      "cell_type": "markdown",
      "metadata": {
        "id": "XWX2GM8f26i1"
      },
      "source": [
        "### Model: TensorFlow 3-Layer Sequential Neural Network\r\n",
        "\r\n",
        "Neural networks are great solutions for classification problems where the input is consistent and quantifiable. This dataset provides consistent data points for each mushroom and we can utilize OneHotEncoding to quantify the categorical features."
      ]
    },
    {
      "cell_type": "code",
      "metadata": {
        "id": "fdUb56D-y6N2"
      },
      "source": [
        "from keras.models import Sequential\r\n",
        "from keras.layers import Input, Activation, Dense"
      ],
      "execution_count": null,
      "outputs": []
    },
    {
      "cell_type": "code",
      "metadata": {
        "id": "Q5szQ1Fi2gPK"
      },
      "source": [
        "# Create the neural network\r\n",
        "nn = Sequential()"
      ],
      "execution_count": null,
      "outputs": []
    },
    {
      "cell_type": "code",
      "metadata": {
        "id": "mXdmSF2LzHhp"
      },
      "source": [
        "# Add layers to the model\r\n",
        "nn.add(Input(train_x.shape[1]))\r\n",
        "nn.add(Dense(8))\r\n",
        "nn.add(Activation('sigmoid'))\r\n",
        "nn.add(Dense(1))\r\n",
        "nn.add(Activation('sigmoid'))"
      ],
      "execution_count": null,
      "outputs": []
    },
    {
      "cell_type": "code",
      "metadata": {
        "id": "rwTuqRwNzfWS"
      },
      "source": [
        "# Compile the neural network\r\n",
        "nn.compile(loss='binary_crossentropy', optimizer='adam', metrics=['accuracy'])"
      ],
      "execution_count": null,
      "outputs": []
    },
    {
      "cell_type": "code",
      "metadata": {
        "colab": {
          "base_uri": "https://localhost:8080/"
        },
        "id": "cmxOAZs1zmRR",
        "outputId": "af7b18c5-5f8b-4bd1-8fc7-13a5b50e9e21"
      },
      "source": [
        "nn.summary()"
      ],
      "execution_count": null,
      "outputs": [
        {
          "output_type": "stream",
          "text": [
            "Model: \"sequential_2\"\n",
            "_________________________________________________________________\n",
            "Layer (type)                 Output Shape              Param #   \n",
            "=================================================================\n",
            "dense_4 (Dense)              (None, 8)                 944       \n",
            "_________________________________________________________________\n",
            "activation_4 (Activation)    (None, 8)                 0         \n",
            "_________________________________________________________________\n",
            "dense_5 (Dense)              (None, 1)                 9         \n",
            "_________________________________________________________________\n",
            "activation_5 (Activation)    (None, 1)                 0         \n",
            "=================================================================\n",
            "Total params: 953\n",
            "Trainable params: 953\n",
            "Non-trainable params: 0\n",
            "_________________________________________________________________\n"
          ],
          "name": "stdout"
        }
      ]
    },
    {
      "cell_type": "code",
      "metadata": {
        "colab": {
          "base_uri": "https://localhost:8080/"
        },
        "id": "Vw_IQ0a4zwkN",
        "outputId": "3befdc24-3c23-4dc0-d842-ec9491df5129"
      },
      "source": [
        "nn_history = nn.fit(train_x, train_y, batch_size=128, epochs=100, verbose=2, validation_data=(test_x, test_y))"
      ],
      "execution_count": null,
      "outputs": [
        {
          "output_type": "stream",
          "text": [
            "Epoch 1/100\n",
            "48/48 - 1s - loss: 0.6271 - accuracy: 0.7768 - val_loss: 0.5592 - val_accuracy: 0.9143\n",
            "Epoch 2/100\n",
            "48/48 - 0s - loss: 0.5044 - accuracy: 0.9058 - val_loss: 0.4474 - val_accuracy: 0.9188\n",
            "Epoch 3/100\n",
            "48/48 - 0s - loss: 0.4088 - accuracy: 0.9109 - val_loss: 0.3642 - val_accuracy: 0.9188\n",
            "Epoch 4/100\n",
            "48/48 - 0s - loss: 0.3395 - accuracy: 0.9155 - val_loss: 0.3046 - val_accuracy: 0.9301\n",
            "Epoch 5/100\n",
            "48/48 - 0s - loss: 0.2882 - accuracy: 0.9263 - val_loss: 0.2591 - val_accuracy: 0.9444\n",
            "Epoch 6/100\n",
            "48/48 - 0s - loss: 0.2474 - accuracy: 0.9445 - val_loss: 0.2224 - val_accuracy: 0.9611\n",
            "Epoch 7/100\n",
            "48/48 - 0s - loss: 0.2138 - accuracy: 0.9585 - val_loss: 0.1921 - val_accuracy: 0.9734\n",
            "Epoch 8/100\n",
            "48/48 - 0s - loss: 0.1856 - accuracy: 0.9698 - val_loss: 0.1671 - val_accuracy: 0.9803\n",
            "Epoch 9/100\n",
            "48/48 - 0s - loss: 0.1620 - accuracy: 0.9778 - val_loss: 0.1465 - val_accuracy: 0.9818\n",
            "Epoch 10/100\n",
            "48/48 - 0s - loss: 0.1423 - accuracy: 0.9821 - val_loss: 0.1292 - val_accuracy: 0.9852\n",
            "Epoch 11/100\n",
            "48/48 - 0s - loss: 0.1259 - accuracy: 0.9849 - val_loss: 0.1149 - val_accuracy: 0.9887\n",
            "Epoch 12/100\n",
            "48/48 - 0s - loss: 0.1120 - accuracy: 0.9872 - val_loss: 0.1026 - val_accuracy: 0.9902\n",
            "Epoch 13/100\n",
            "48/48 - 0s - loss: 0.1002 - accuracy: 0.9883 - val_loss: 0.0924 - val_accuracy: 0.9921\n",
            "Epoch 14/100\n",
            "48/48 - 0s - loss: 0.0901 - accuracy: 0.9906 - val_loss: 0.0834 - val_accuracy: 0.9926\n",
            "Epoch 15/100\n",
            "48/48 - 0s - loss: 0.0814 - accuracy: 0.9926 - val_loss: 0.0758 - val_accuracy: 0.9926\n",
            "Epoch 16/100\n",
            "48/48 - 0s - loss: 0.0739 - accuracy: 0.9943 - val_loss: 0.0691 - val_accuracy: 0.9936\n",
            "Epoch 17/100\n",
            "48/48 - 0s - loss: 0.0673 - accuracy: 0.9956 - val_loss: 0.0633 - val_accuracy: 0.9941\n",
            "Epoch 18/100\n",
            "48/48 - 0s - loss: 0.0615 - accuracy: 0.9961 - val_loss: 0.0582 - val_accuracy: 0.9951\n",
            "Epoch 19/100\n",
            "48/48 - 0s - loss: 0.0564 - accuracy: 0.9967 - val_loss: 0.0537 - val_accuracy: 0.9951\n",
            "Epoch 20/100\n",
            "48/48 - 0s - loss: 0.0520 - accuracy: 0.9972 - val_loss: 0.0496 - val_accuracy: 0.9966\n",
            "Epoch 21/100\n",
            "48/48 - 0s - loss: 0.0479 - accuracy: 0.9975 - val_loss: 0.0460 - val_accuracy: 0.9970\n",
            "Epoch 22/100\n",
            "48/48 - 0s - loss: 0.0443 - accuracy: 0.9982 - val_loss: 0.0427 - val_accuracy: 0.9970\n",
            "Epoch 23/100\n",
            "48/48 - 0s - loss: 0.0411 - accuracy: 0.9982 - val_loss: 0.0398 - val_accuracy: 0.9970\n",
            "Epoch 24/100\n",
            "48/48 - 0s - loss: 0.0382 - accuracy: 0.9982 - val_loss: 0.0372 - val_accuracy: 0.9975\n",
            "Epoch 25/100\n",
            "48/48 - 0s - loss: 0.0356 - accuracy: 0.9982 - val_loss: 0.0348 - val_accuracy: 0.9980\n",
            "Epoch 26/100\n",
            "48/48 - 0s - loss: 0.0332 - accuracy: 0.9984 - val_loss: 0.0326 - val_accuracy: 0.9980\n",
            "Epoch 27/100\n",
            "48/48 - 0s - loss: 0.0310 - accuracy: 0.9985 - val_loss: 0.0306 - val_accuracy: 0.9980\n",
            "Epoch 28/100\n",
            "48/48 - 0s - loss: 0.0291 - accuracy: 0.9985 - val_loss: 0.0287 - val_accuracy: 0.9980\n",
            "Epoch 29/100\n",
            "48/48 - 0s - loss: 0.0273 - accuracy: 0.9985 - val_loss: 0.0270 - val_accuracy: 0.9980\n",
            "Epoch 30/100\n",
            "48/48 - 0s - loss: 0.0256 - accuracy: 0.9989 - val_loss: 0.0255 - val_accuracy: 0.9980\n",
            "Epoch 31/100\n",
            "48/48 - 0s - loss: 0.0241 - accuracy: 0.9989 - val_loss: 0.0240 - val_accuracy: 0.9980\n",
            "Epoch 32/100\n",
            "48/48 - 0s - loss: 0.0227 - accuracy: 0.9990 - val_loss: 0.0227 - val_accuracy: 0.9985\n",
            "Epoch 33/100\n",
            "48/48 - 0s - loss: 0.0215 - accuracy: 0.9990 - val_loss: 0.0215 - val_accuracy: 0.9990\n",
            "Epoch 34/100\n",
            "48/48 - 0s - loss: 0.0203 - accuracy: 0.9990 - val_loss: 0.0204 - val_accuracy: 0.9990\n",
            "Epoch 35/100\n",
            "48/48 - 0s - loss: 0.0192 - accuracy: 0.9992 - val_loss: 0.0193 - val_accuracy: 0.9990\n",
            "Epoch 36/100\n",
            "48/48 - 0s - loss: 0.0182 - accuracy: 0.9993 - val_loss: 0.0183 - val_accuracy: 0.9990\n",
            "Epoch 37/100\n",
            "48/48 - 0s - loss: 0.0172 - accuracy: 0.9995 - val_loss: 0.0174 - val_accuracy: 0.9995\n",
            "Epoch 38/100\n",
            "48/48 - 0s - loss: 0.0163 - accuracy: 0.9997 - val_loss: 0.0165 - val_accuracy: 0.9995\n",
            "Epoch 39/100\n",
            "48/48 - 0s - loss: 0.0155 - accuracy: 0.9997 - val_loss: 0.0157 - val_accuracy: 0.9995\n",
            "Epoch 40/100\n",
            "48/48 - 0s - loss: 0.0147 - accuracy: 0.9997 - val_loss: 0.0150 - val_accuracy: 0.9995\n",
            "Epoch 41/100\n",
            "48/48 - 0s - loss: 0.0140 - accuracy: 0.9997 - val_loss: 0.0143 - val_accuracy: 0.9995\n",
            "Epoch 42/100\n",
            "48/48 - 0s - loss: 0.0134 - accuracy: 0.9997 - val_loss: 0.0135 - val_accuracy: 0.9995\n",
            "Epoch 43/100\n",
            "48/48 - 0s - loss: 0.0127 - accuracy: 0.9997 - val_loss: 0.0129 - val_accuracy: 0.9995\n",
            "Epoch 44/100\n",
            "48/48 - 0s - loss: 0.0121 - accuracy: 0.9997 - val_loss: 0.0123 - val_accuracy: 0.9995\n",
            "Epoch 45/100\n",
            "48/48 - 0s - loss: 0.0116 - accuracy: 0.9997 - val_loss: 0.0118 - val_accuracy: 0.9995\n",
            "Epoch 46/100\n",
            "48/48 - 0s - loss: 0.0110 - accuracy: 0.9998 - val_loss: 0.0113 - val_accuracy: 0.9995\n",
            "Epoch 47/100\n",
            "48/48 - 0s - loss: 0.0106 - accuracy: 0.9998 - val_loss: 0.0108 - val_accuracy: 0.9995\n",
            "Epoch 48/100\n",
            "48/48 - 0s - loss: 0.0101 - accuracy: 0.9998 - val_loss: 0.0103 - val_accuracy: 0.9995\n",
            "Epoch 49/100\n",
            "48/48 - 0s - loss: 0.0097 - accuracy: 0.9998 - val_loss: 0.0099 - val_accuracy: 0.9995\n",
            "Epoch 50/100\n",
            "48/48 - 0s - loss: 0.0092 - accuracy: 0.9998 - val_loss: 0.0095 - val_accuracy: 1.0000\n",
            "Epoch 51/100\n",
            "48/48 - 0s - loss: 0.0089 - accuracy: 0.9998 - val_loss: 0.0091 - val_accuracy: 1.0000\n",
            "Epoch 52/100\n",
            "48/48 - 0s - loss: 0.0085 - accuracy: 1.0000 - val_loss: 0.0087 - val_accuracy: 1.0000\n",
            "Epoch 53/100\n",
            "48/48 - 0s - loss: 0.0081 - accuracy: 1.0000 - val_loss: 0.0083 - val_accuracy: 1.0000\n",
            "Epoch 54/100\n",
            "48/48 - 0s - loss: 0.0078 - accuracy: 1.0000 - val_loss: 0.0080 - val_accuracy: 1.0000\n",
            "Epoch 55/100\n",
            "48/48 - 0s - loss: 0.0075 - accuracy: 1.0000 - val_loss: 0.0077 - val_accuracy: 1.0000\n",
            "Epoch 56/100\n",
            "48/48 - 0s - loss: 0.0072 - accuracy: 1.0000 - val_loss: 0.0074 - val_accuracy: 1.0000\n",
            "Epoch 57/100\n",
            "48/48 - 0s - loss: 0.0069 - accuracy: 1.0000 - val_loss: 0.0071 - val_accuracy: 1.0000\n",
            "Epoch 58/100\n",
            "48/48 - 0s - loss: 0.0066 - accuracy: 1.0000 - val_loss: 0.0068 - val_accuracy: 1.0000\n",
            "Epoch 59/100\n",
            "48/48 - 0s - loss: 0.0064 - accuracy: 1.0000 - val_loss: 0.0066 - val_accuracy: 1.0000\n",
            "Epoch 60/100\n",
            "48/48 - 0s - loss: 0.0061 - accuracy: 1.0000 - val_loss: 0.0063 - val_accuracy: 1.0000\n",
            "Epoch 61/100\n",
            "48/48 - 0s - loss: 0.0059 - accuracy: 1.0000 - val_loss: 0.0061 - val_accuracy: 1.0000\n",
            "Epoch 62/100\n",
            "48/48 - 0s - loss: 0.0057 - accuracy: 1.0000 - val_loss: 0.0059 - val_accuracy: 1.0000\n",
            "Epoch 63/100\n",
            "48/48 - 0s - loss: 0.0055 - accuracy: 1.0000 - val_loss: 0.0056 - val_accuracy: 1.0000\n",
            "Epoch 64/100\n",
            "48/48 - 0s - loss: 0.0053 - accuracy: 1.0000 - val_loss: 0.0054 - val_accuracy: 1.0000\n",
            "Epoch 65/100\n",
            "48/48 - 0s - loss: 0.0051 - accuracy: 1.0000 - val_loss: 0.0052 - val_accuracy: 1.0000\n",
            "Epoch 66/100\n",
            "48/48 - 0s - loss: 0.0049 - accuracy: 1.0000 - val_loss: 0.0050 - val_accuracy: 1.0000\n",
            "Epoch 67/100\n",
            "48/48 - 0s - loss: 0.0047 - accuracy: 1.0000 - val_loss: 0.0049 - val_accuracy: 1.0000\n",
            "Epoch 68/100\n",
            "48/48 - 0s - loss: 0.0046 - accuracy: 1.0000 - val_loss: 0.0047 - val_accuracy: 1.0000\n",
            "Epoch 69/100\n",
            "48/48 - 0s - loss: 0.0044 - accuracy: 1.0000 - val_loss: 0.0045 - val_accuracy: 1.0000\n",
            "Epoch 70/100\n",
            "48/48 - 0s - loss: 0.0042 - accuracy: 1.0000 - val_loss: 0.0044 - val_accuracy: 1.0000\n",
            "Epoch 71/100\n",
            "48/48 - 0s - loss: 0.0041 - accuracy: 1.0000 - val_loss: 0.0042 - val_accuracy: 1.0000\n",
            "Epoch 72/100\n",
            "48/48 - 0s - loss: 0.0039 - accuracy: 1.0000 - val_loss: 0.0041 - val_accuracy: 1.0000\n",
            "Epoch 73/100\n",
            "48/48 - 0s - loss: 0.0038 - accuracy: 1.0000 - val_loss: 0.0039 - val_accuracy: 1.0000\n",
            "Epoch 74/100\n",
            "48/48 - 0s - loss: 0.0037 - accuracy: 1.0000 - val_loss: 0.0038 - val_accuracy: 1.0000\n",
            "Epoch 75/100\n",
            "48/48 - 0s - loss: 0.0036 - accuracy: 1.0000 - val_loss: 0.0037 - val_accuracy: 1.0000\n",
            "Epoch 76/100\n",
            "48/48 - 0s - loss: 0.0034 - accuracy: 1.0000 - val_loss: 0.0036 - val_accuracy: 1.0000\n",
            "Epoch 77/100\n",
            "48/48 - 0s - loss: 0.0033 - accuracy: 1.0000 - val_loss: 0.0034 - val_accuracy: 1.0000\n",
            "Epoch 78/100\n",
            "48/48 - 0s - loss: 0.0032 - accuracy: 1.0000 - val_loss: 0.0033 - val_accuracy: 1.0000\n",
            "Epoch 79/100\n",
            "48/48 - 0s - loss: 0.0031 - accuracy: 1.0000 - val_loss: 0.0032 - val_accuracy: 1.0000\n",
            "Epoch 80/100\n",
            "48/48 - 0s - loss: 0.0030 - accuracy: 1.0000 - val_loss: 0.0031 - val_accuracy: 1.0000\n",
            "Epoch 81/100\n",
            "48/48 - 0s - loss: 0.0029 - accuracy: 1.0000 - val_loss: 0.0030 - val_accuracy: 1.0000\n",
            "Epoch 82/100\n",
            "48/48 - 0s - loss: 0.0028 - accuracy: 1.0000 - val_loss: 0.0029 - val_accuracy: 1.0000\n",
            "Epoch 83/100\n",
            "48/48 - 0s - loss: 0.0027 - accuracy: 1.0000 - val_loss: 0.0028 - val_accuracy: 1.0000\n",
            "Epoch 84/100\n",
            "48/48 - 0s - loss: 0.0026 - accuracy: 1.0000 - val_loss: 0.0027 - val_accuracy: 1.0000\n",
            "Epoch 85/100\n",
            "48/48 - 0s - loss: 0.0026 - accuracy: 1.0000 - val_loss: 0.0027 - val_accuracy: 1.0000\n",
            "Epoch 86/100\n",
            "48/48 - 0s - loss: 0.0025 - accuracy: 1.0000 - val_loss: 0.0026 - val_accuracy: 1.0000\n",
            "Epoch 87/100\n",
            "48/48 - 0s - loss: 0.0024 - accuracy: 1.0000 - val_loss: 0.0025 - val_accuracy: 1.0000\n",
            "Epoch 88/100\n",
            "48/48 - 0s - loss: 0.0023 - accuracy: 1.0000 - val_loss: 0.0024 - val_accuracy: 1.0000\n",
            "Epoch 89/100\n",
            "48/48 - 0s - loss: 0.0023 - accuracy: 1.0000 - val_loss: 0.0023 - val_accuracy: 1.0000\n",
            "Epoch 90/100\n",
            "48/48 - 0s - loss: 0.0022 - accuracy: 1.0000 - val_loss: 0.0023 - val_accuracy: 1.0000\n",
            "Epoch 91/100\n",
            "48/48 - 0s - loss: 0.0021 - accuracy: 1.0000 - val_loss: 0.0022 - val_accuracy: 1.0000\n",
            "Epoch 92/100\n",
            "48/48 - 0s - loss: 0.0021 - accuracy: 1.0000 - val_loss: 0.0021 - val_accuracy: 1.0000\n",
            "Epoch 93/100\n",
            "48/48 - 0s - loss: 0.0020 - accuracy: 1.0000 - val_loss: 0.0021 - val_accuracy: 1.0000\n",
            "Epoch 94/100\n",
            "48/48 - 0s - loss: 0.0019 - accuracy: 1.0000 - val_loss: 0.0020 - val_accuracy: 1.0000\n",
            "Epoch 95/100\n",
            "48/48 - 0s - loss: 0.0019 - accuracy: 1.0000 - val_loss: 0.0019 - val_accuracy: 1.0000\n",
            "Epoch 96/100\n",
            "48/48 - 0s - loss: 0.0018 - accuracy: 1.0000 - val_loss: 0.0019 - val_accuracy: 1.0000\n",
            "Epoch 97/100\n",
            "48/48 - 0s - loss: 0.0018 - accuracy: 1.0000 - val_loss: 0.0018 - val_accuracy: 1.0000\n",
            "Epoch 98/100\n",
            "48/48 - 0s - loss: 0.0017 - accuracy: 1.0000 - val_loss: 0.0018 - val_accuracy: 1.0000\n",
            "Epoch 99/100\n",
            "48/48 - 0s - loss: 0.0017 - accuracy: 1.0000 - val_loss: 0.0017 - val_accuracy: 1.0000\n",
            "Epoch 100/100\n",
            "48/48 - 0s - loss: 0.0016 - accuracy: 1.0000 - val_loss: 0.0017 - val_accuracy: 1.0000\n"
          ],
          "name": "stdout"
        }
      ]
    },
    {
      "cell_type": "code",
      "metadata": {
        "id": "b1AxRq6C0R7H"
      },
      "source": [
        "# Create predictions using the neural network\r\n",
        "nn_pred = nn.predict(test_x, batch_size=128)\r\n",
        "nn_pred_round = np.round(nn_pred, decimals=0) # We round the predictions to create comparible classifications. This removes the ability to find the loss"
      ],
      "execution_count": null,
      "outputs": []
    },
    {
      "cell_type": "code",
      "metadata": {
        "colab": {
          "base_uri": "https://localhost:8080/"
        },
        "id": "iqwFIc9p0aH8",
        "outputId": "f71dc3da-dc72-4d95-dd45-e53d34cd97d0"
      },
      "source": [
        "# Calculate the confusion matrix of real vs. NN predictions\r\n",
        "cm = tf.math.confusion_matrix(test_y, nn_pred_round, num_classes=2)\r\n",
        "cm."
      ],
      "execution_count": null,
      "outputs": [
        {
          "output_type": "execute_result",
          "data": {
            "text/plain": [
              "<tf.Tensor: shape=(2, 2), dtype=int32, numpy=\n",
              "array([[1001,    0],\n",
              "       [   0, 1030]], dtype=int32)>"
            ]
          },
          "metadata": {
            "tags": []
          },
          "execution_count": 139
        }
      ]
    },
    {
      "cell_type": "code",
      "metadata": {
        "colab": {
          "base_uri": "https://localhost:8080/",
          "height": 467
        },
        "id": "jBeFmDg6053O",
        "outputId": "9134046b-7399-4079-cb2c-21acb8121856"
      },
      "source": [
        "plot_confusion_matrix(cm=cm.numpy(), target_names=enc_names[:2], normalize=False, cmap=plt.cm.Blues, title='Confusion Matrix - Dense Neural Network')"
      ],
      "execution_count": null,
      "outputs": [
        {
          "output_type": "display_data",
          "data": {
            "image/png": "[encoded data removed]",
            "text/plain": [
              "<Figure size 576x432 with 2 Axes>"
            ]
          },
          "metadata": {
            "tags": [],
            "needs_background": "light"
          }
        }
      ]
    },
    {
      "cell_type": "markdown",
      "metadata": {
        "id": "ETr7A5j_0_L4"
      },
      "source": [
        "### Final Thoughts\r\n",
        "\r\n",
        "Binary classification problems become more mathematical in nature and lack the fun more complex problems bring, such as image analysis or natural language processing (NLP). Nonetheless, this notebook is a good reference for common solutions to binary classification problems. The code blurbs will be great references for future projects, specifically the data preparation section."
      ]
    }
  ]
}